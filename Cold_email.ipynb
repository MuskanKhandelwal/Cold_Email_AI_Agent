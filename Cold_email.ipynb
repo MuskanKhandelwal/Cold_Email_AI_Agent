{
 "cells": [
  {
   "cell_type": "code",
   "execution_count": null,
   "metadata": {},
   "outputs": [],
   "source": [
    "pip install sendgrid"
   ]
  },
  {
   "cell_type": "code",
   "execution_count": 3,
   "metadata": {},
   "outputs": [],
   "source": [
    "from dotenv import load_dotenv\n",
    "from openai import AsyncOpenAI\n",
    "from agents import Agent, Runner, trace, function_tool, OpenAIChatCompletionsModel, input_guardrail, GuardrailFunctionOutput\n",
    "from typing import Dict\n",
    "import sendgrid\n",
    "import os\n",
    "from sendgrid.helpers.mail import Mail, Email, To, Content\n",
    "from pydantic import BaseModel"
   ]
  },
  {
   "cell_type": "code",
   "execution_count": 10,
   "metadata": {},
   "outputs": [],
   "source": [
    "from dotenv import load_dotenv\n",
    "from agents import Agent, Runner, trace, function_tool\n",
    "from openai.types.responses import ResponseTextDeltaEvent\n",
    "from typing import Dict\n",
    "import asyncio\n",
    "\n"
   ]
  },
  {
   "cell_type": "code",
   "execution_count": null,
   "metadata": {},
   "outputs": [],
   "source": [
    "load_dotenv(override=True)"
   ]
  },
  {
   "cell_type": "code",
   "execution_count": null,
   "metadata": {},
   "outputs": [],
   "source": [
    "openai_api_key = os.getenv('OPENAI_API_KEY')\n",
    "\n",
    "if openai_api_key:\n",
    "    print(f\"OpenAI API Key exists and begins {openai_api_key[:8]}\")\n",
    "else:\n",
    "    print(\"OpenAI API Key not set\")"
   ]
  },
  {
   "cell_type": "code",
   "execution_count": 7,
   "metadata": {},
   "outputs": [],
   "source": [
    "\n",
    "instructions1 = \"\"\"\n",
    "You are a professional job seeker assistant working for JobSeekerAI, \\\n",
    "a platform that helps job seekers craft tailored cold emails for job applications. \\\n",
    "You write formal, well-structured cold emails to hiring managers, showcasing the candidate's skills and qualifications in a serious and professional manner.\n",
    "\"\"\"\n",
    "\n",
    "instructions2 = \"\"\"\n",
    "You are a creative job seeker assistant working for JobSeekerAI, \\  \n",
    "a platform that helps job seekers stand out by crafting personalized cold emails. \\\n",
    "You write witty and engaging cold emails that capture the hiring manager's attention, showcasing the candidate’s qualifications in a fun and memorable way.\n",
    "\"\"\"\n",
    "instructions3 = \"\"\"\n",
    "You are a results-driven job seeker assistant working for JobSeekerAI, \\\n",
    "a platform designed to help job seekers craft short and impactful cold emails. \\\n",
    "You write concise, to-the-point cold emails that quickly convey the candidate's qualifications and interest in the job, ensuring the hiring manager can easily understand the candidate's value.\n",
    "\"\"\""
   ]
  },
  {
   "cell_type": "code",
   "execution_count": 9,
   "metadata": {},
   "outputs": [],
   "source": [
    "job_seeker_agent1 = Agent(\n",
    "        name=\"Professional Job Seeker Agent\",\n",
    "        instructions=instructions1,\n",
    "        model=\"gpt-4o\"\n",
    ")\n",
    "\n",
    "job_seeker_agent2 = Agent(\n",
    "        name=\"Engaging Job Seeker Agent\",\n",
    "        instructions=instructions2,\n",
    "        model=\"gpt-4o\"\n",
    ")\n",
    "\n",
    "job_seeker_agent3 = Agent(\n",
    "        name=\"Busy Job Seeker Agent\",\n",
    "        instructions=instructions3,\n",
    "        model=\"gpt-4o\"\n",
    ")"
   ]
  },
  {
   "cell_type": "code",
   "execution_count": null,
   "metadata": {},
   "outputs": [],
   "source": [
    "user_name = input(\"Your full name: \")\n",
    "contact_info = input(\"Your contact information (e.g., email, phone): \")\n",
    "company_name = input(\"Company name you're applying to: \")\n",
    "hiring_manager = input(\"Hiring manager's name: \")\n",
    "job_position = input(\"The position you're applying for: \")\n",
    "skills = input(\"Briefly, list your relevant skills: \")\n",
    "\n",
    "\n",
    "email_input = f\"\"\"\n",
    "Candidate: {user_name}\n",
    "Contact Info: {contact_info}\n",
    "Company: {company_name}\n",
    "Hiring Manager: {hiring_manager}\n",
    "Position: {job_position}\n",
    "Skills: {skills}\n",
    "\n",
    "Write a cold email tailored to this job application using the provided information.\n",
    "\"\"\"\n",
    "\n",
    "result = Runner.run_streamed(job_seeker_agent1, input=email_input)\n",
    "\n",
    "async for event in result.stream_events():\n",
    "    if event.type == \"raw_response_event\" and isinstance(event.data, ResponseTextDeltaEvent):\n",
    "        print(event.data.delta, end=\"\", flush=True)\n"
   ]
  },
  {
   "cell_type": "code",
   "execution_count": null,
   "metadata": {},
   "outputs": [],
   "source": [
    "user_name = \"Muskan Khandelwal  \"\n",
    "contact_info = \"muskan.khandelwal@gmail.com\"\n",
    "company_name = \"ComplAI\"\n",
    "hiring_manager = \"John Doe\"\n",
    "job_position = \"Machine Learning Engineer\"\n",
    "skills = \"Python, SQL, AWS, Docker, Kubernetes, Machine Learning, Deep Learning, Natural Language Processing,LLM, MLoq\"\n",
    "\n",
    "\n",
    "email_input = f\"\"\"\n",
    "Candidate: {user_name}\n",
    "Contact Info: {contact_info}\n",
    "Company: {company_name}\n",
    "Hiring Manager: {hiring_manager}\n",
    "Position: {job_position}\n",
    "Skills: {skills}\n",
    "\n",
    "Write a cold email tailored to this job application using the provided information.\n",
    "\"\"\"\n",
    "\n",
    "result = Runner.run_streamed(job_seeker_agent1, input=email_input)\n",
    "\n",
    "async for event in result.stream_events():\n",
    "    if event.type == \"raw_response_event\" and isinstance(event.data, ResponseTextDeltaEvent):\n",
    "        print(event.data.delta, end=\"\", flush=True)\n"
   ]
  },
  {
   "cell_type": "code",
   "execution_count": null,
   "metadata": {},
   "outputs": [],
   "source": [
    "result = Runner.run_streamed(job_seeker_agent1, input=\"Write a cold job seeker email\")\n",
    "async for event in result.stream_events():\n",
    "    if event.type == \"raw_response_event\" and isinstance(event.data, ResponseTextDeltaEvent):\n",
    "        print(event.data.delta, end=\"\", flush=True)"
   ]
  },
  {
   "cell_type": "code",
   "execution_count": null,
   "metadata": {},
   "outputs": [],
   "source": [
    "message = \"Write a cold job seeker email\"\n",
    "\n",
    "with trace(\"Parallel cold emails\"):\n",
    "    results = await asyncio.gather(\n",
    "        Runner.run(job_seeker_agent1, email_input),\n",
    "        Runner.run(job_seeker_agent2, email_input),\n",
    "        Runner.run(job_seeker_agent3, email_input),\n",
    "    )\n",
    "\n",
    "outputs = [result.final_output for result in results]\n",
    "\n",
    "for output in outputs:\n",
    "    print(output + \"\\n\\n\")\n"
   ]
  },
  {
   "cell_type": "code",
   "execution_count": 20,
   "metadata": {},
   "outputs": [],
   "source": [
    "job_seeker_picker = Agent(\n",
    "    name=\"job_seeker_picker\",\n",
    "    instructions=\"You pick the best cold job seeker email from the given options. \\\n",
    "Imagine you are a hiring manager and pick the one you are most likely to respond to. \\\n",
    "Do not give an explanation; reply with the selected email only.\",\n",
    "    model=\"gpt-4o\"\n",
    ")"
   ]
  },
  {
   "cell_type": "code",
   "execution_count": null,
   "metadata": {},
   "outputs": [],
   "source": [
    "message = \"Write a cold sales email\"\n",
    "\n",
    "with trace(\"Selection from sales people\"):\n",
    "    results = await asyncio.gather(\n",
    "        Runner.run(job_seeker_agent1, email_input),\n",
    "        Runner.run(job_seeker_agent2, email_input),\n",
    "        Runner.run(job_seeker_agent3, email_input),\n",
    "    )\n",
    "    outputs = [result.final_output for result in results]\n",
    "\n",
    "    emails = \"Cold sales emails:\\n\\n\".join(outputs)\n",
    "\n",
    "    best = await Runner.run(job_seeker_picker, emails)\n",
    "\n",
    "    print(f\"Best job seeker email:\\n{best.final_output}\")\n"
   ]
  },
  {
   "cell_type": "markdown",
   "metadata": {},
   "source": [
    "Adding tools "
   ]
  },
  {
   "cell_type": "code",
   "execution_count": null,
   "metadata": {},
   "outputs": [],
   "source": [
    "job_seeker_agent1"
   ]
  },
  {
   "cell_type": "markdown",
   "metadata": {},
   "source": [
    "Finally the tools and Agents interaction"
   ]
  },
  {
   "cell_type": "code",
   "execution_count": 23,
   "metadata": {},
   "outputs": [],
   "source": [
    "@function_tool\n",
    "def send_email(body: str):\n",
    "    \"\"\" Send out an email with the given body to all sales prospects \"\"\"\n",
    "    sg = sendgrid.SendGridAPIClient(api_key=os.environ.get('SENDGRID_API_KEY'))\n",
    "    from_email = Email(\"muskankh03@gmail.com\")  # Change to your verified sender\n",
    "    to_email = To(\"muskankh03@gmail.com\")  # Change to your recipient\n",
    "    content = Content(\"text/plain\", body)\n",
    "    mail = Mail(from_email, to_email, \"Job Seeker email\", content).get()\n",
    "    response = sg.client.mail.send.post(request_body=mail)\n",
    "    return {\"status\": \"success\"}"
   ]
  },
  {
   "cell_type": "code",
   "execution_count": null,
   "metadata": {},
   "outputs": [],
   "source": [
    "# Let's look at it\n",
    "send_email"
   ]
  },
  {
   "cell_type": "code",
   "execution_count": null,
   "metadata": {},
   "outputs": [],
   "source": [
    "tool1 = job_seeker_agent1.as_tool(tool_name=\"job_seeker_agent1\", tool_description=\"Write a cold job seeker email\")\n",
    "tool1"
   ]
  },
  {
   "cell_type": "code",
   "execution_count": null,
   "metadata": {},
   "outputs": [],
   "source": [
    "description = \"Write a cold job seeker email\"\n",
    "\n",
    "tool1 = job_seeker_agent1.as_tool(tool_name=\"job_seeker_agent1\", tool_description=description)\n",
    "tool2 = job_seeker_agent2.as_tool(tool_name=\"job_seeker_agent2\", tool_description=description)\n",
    "tool3 = job_seeker_agent3.as_tool(tool_name=\"job_seeker_agent3\", tool_description=description)\n",
    "\n",
    "tools = [tool1, tool2, tool3, send_email]\n",
    "\n",
    "tools"
   ]
  },
  {
   "cell_type": "code",
   "execution_count": null,
   "metadata": {},
   "outputs": [],
   "source": [
    "instructions = \"\"\"\n",
    "You are a job seeker manager working for JobSeekerAI. You generate cold job seeker emails using the tools provided. \n",
    "You try all 3 job_seeker_agent tools once before choosing the best one. \\\n",
    "you select the most professional one based on the following criteria: tone, structure, and relevance. \n",
    "After selection, you use the send_email tool to send the chosen email.\n",
    "\"\"\"\n",
    "\n",
    "job_seeker_manager = Agent(\n",
    "    name=\"Job Seeker Manager\",\n",
    "    instructions=instructions,\n",
    "    tools=[tool1, tool2, tool3, send_email],  # Including the send_email tool\n",
    "    model=\"gpt-4o\"\n",
    ")\n",
    "\n",
    "message = \"Send a cold job seeker email addressed to 'Dear CEO'\"\n",
    "\n",
    "# Running the agent\n",
    "with trace(\"Job Seeker Manager\"):\n",
    "    result = await Runner.run(job_seeker_manager, message)\n",
    "\n",
    "# The agent should now automatically choose the best email and send it\n",
    "print(result)  # This should show which email was selected and sent\n"
   ]
  },
  {
   "cell_type": "markdown",
   "metadata": {},
   "source": [
    "Implementing handoffs"
   ]
  },
  {
   "cell_type": "code",
   "execution_count": 33,
   "metadata": {},
   "outputs": [],
   "source": [
    "subject_instructions = \"You can write a subject for a cold job seeker email. \\\n",
    "You are given a message and you need to write a subject for an email that is likely to get a response.\"\n",
    "\n",
    "html_instructions = \"You can convert a text email body to an HTML email body. \\\n",
    "You are given a text email body which might have some markdown \\\n",
    "and you need to convert it to an HTML email body with simple, clear, compelling layout and design.\"\n",
    "\n",
    "subject_writer = Agent(name=\"Email subject writer\", instructions=subject_instructions, model=\"gpt-4o\")\n",
    "subject_tool = subject_writer.as_tool(tool_name=\"subject_writer\", tool_description=\"Write a subject for a cold job seeker email\")\n",
    "\n",
    "html_converter = Agent(name=\"HTML email body converter\", instructions=html_instructions, model=\"gpt-4o\")\n",
    "html_tool = html_converter.as_tool(tool_name=\"html_converter\",tool_description=\"Convert a text email body to an HTML email body\")\n"
   ]
  },
  {
   "cell_type": "code",
   "execution_count": 34,
   "metadata": {},
   "outputs": [],
   "source": [
    "@function_tool\n",
    "def send_html_email(subject: str, html_body: str) -> Dict[str, str]:\n",
    "    \"\"\" Send out an email with the given subject and HTML body to all sales prospects \"\"\"\n",
    "    sg = sendgrid.SendGridAPIClient(api_key=os.environ.get('SENDGRID_API_KEY'))\n",
    "    from_email = Email(\"muskankh03@gmail.com\")  # Change to your verified sender\n",
    "    to_email = To(\"muskankh03@gmail.com\")  # Change to your recipient\n",
    "    content = Content(\"text/html\", html_body)\n",
    "    mail = Mail(from_email, to_email, subject, content).get()\n",
    "    response = sg.client.mail.send.post(request_body=mail)\n",
    "    return {\"status\": \"success\"}"
   ]
  },
  {
   "cell_type": "code",
   "execution_count": 35,
   "metadata": {},
   "outputs": [],
   "source": [
    "email_tools = [subject_tool, html_tool, send_html_email]"
   ]
  },
  {
   "cell_type": "code",
   "execution_count": 43,
   "metadata": {},
   "outputs": [],
   "source": [
    "instructions =\"You are an email formatter and sender. You receive the body of an email to be sent. \\\n",
    "You first use the subject_writer tool to write a subject for the email, then use the html_converter tool to convert the body to HTML. \\\n",
    "Finally, you use the send_html_email tool to send the email with the subject and HTML body.\"\n",
    "\n",
    "\n",
    "emailer_agent = Agent(\n",
    "    name=\"Email Manager\",\n",
    "    instructions=instructions,\n",
    "    tools=email_tools,\n",
    "    model=\"gpt-4o\",\n",
    "    handoff_description=\"Convert an email to HTML and send it\")"
   ]
  },
  {
   "cell_type": "code",
   "execution_count": 44,
   "metadata": {},
   "outputs": [],
   "source": [
    "tools = [tool1, tool2, tool3]\n",
    "handoffs = [emailer_agent]"
   ]
  },
  {
   "cell_type": "code",
   "execution_count": null,
   "metadata": {},
   "outputs": [],
   "source": [
    "print(tools)\n",
    "print(handoffs)"
   ]
  },
  {
   "cell_type": "code",
   "execution_count": null,
   "metadata": {},
   "outputs": [],
   "source": [
    "# job_seeker_manager_instructions = \"You are a job seeker manager working for ComplAI. You use the tools given to you to generate cold job seeker emails. \\\n",
    "# You never generate job seeker emails yourself; you always use the tools. \\\n",
    "# You try all 3 job seeker agent tools at least once before choosing the best one. \\\n",
    "# You can use the tools multiple times if you're not satisfied with the results from the first try. \\\n",
    "# You select the single best email using your own judgement of which email will be most effective. \\\n",
    "# After picking the email, you handoff to the Email Manager agent to format and send the email.\"\n",
    "\n",
    "job_seeker_manager_instructions = \"\"\"\n",
    "You are a job seeker manager working for ComplAI. You use the tools given to you to generate cold job seeker emails. \n",
    "You never generate job seeker emails yourself; you always use the tools. \n",
    "You try all 3 job seeker agent tools at least once before choosing the best one. \n",
    "You can use the tools multiple times if you're not satisfied with the results from the first try. \n",
    "You select the single best email using your own judgement of which email will be most effective. \n",
    "After picking the best email, you hand it off to the Email Manager agent to format and send the email, without asking for further confirmation from the user.\n",
    "\"\"\"\n",
    "\n",
    "job_seeker_manager = Agent(\n",
    "    name=\"Job Seeker Manager\",\n",
    "    instructions=job_seeker_manager_instructions,\n",
    "    tools=tools,\n",
    "    handoffs=handoffs,\n",
    "    model=\"gpt-4o\")\n",
    "\n",
    "message = \"Send out a cold job seeker email addressed to Dear CEO from Alice\"\n",
    "\n",
    "with trace(\"Automated SDR\"):\n",
    "    result = await Runner.run(job_seeker_manager, message)\n",
    "\n",
    "print(result)"
   ]
  },
  {
   "cell_type": "markdown",
   "metadata": {},
   "source": [
    "Guardrails"
   ]
  },
  {
   "cell_type": "code",
   "execution_count": 41,
   "metadata": {},
   "outputs": [],
   "source": [
    "class NameCheckOutput(BaseModel):\n",
    "    is_name_in_message: bool\n",
    "    name: str\n",
    "\n",
    "guardrail_agent = Agent( \n",
    "    name=\"Name check\",\n",
    "    instructions=\"Check if the user is including someone's personal name in what they want you to do.\",\n",
    "    output_type=NameCheckOutput,\n",
    "    model=\"gpt-4o\"\n",
    ")"
   ]
  },
  {
   "cell_type": "code",
   "execution_count": 42,
   "metadata": {},
   "outputs": [],
   "source": [
    "@input_guardrail\n",
    "async def guardrail_against_name(ctx, agent, message):\n",
    "    result = await Runner.run(guardrail_agent, message, context=ctx.context)\n",
    "    is_name_in_message = result.final_output.is_name_in_message\n",
    "    return GuardrailFunctionOutput(output_info={\"found_name\": result.final_output},tripwire_triggered=is_name_in_message)"
   ]
  },
  {
   "cell_type": "code",
   "execution_count": null,
   "metadata": {},
   "outputs": [],
   "source": [
    "careful_job_seeker_manager = Agent(\n",
    "    name=\"Job Seeker Manager\",\n",
    "    instructions=job_seeker_manager_instructions,\n",
    "    tools=tools,\n",
    "    handoffs=[emailer_agent],\n",
    "    model=\"gpt-4o\",\n",
    "    input_guardrails=[guardrail_against_name]\n",
    "    )\n",
    "\n",
    "message = \"Send out a cold sales email addressed to Dear CEO from Alice\"\n",
    "\n",
    "with trace(\"Protected Automated SDR\"):\n",
    "    result = await Runner.run(careful_job_seeker_manager, message)"
   ]
  },
  {
   "cell_type": "code",
   "execution_count": 49,
   "metadata": {},
   "outputs": [],
   "source": [
    "message = \"Send out a cold job seeker email addressed to Dear CEO from Head of Business Development\"\n",
    "\n",
    "with trace(\"Protected Automated Job Seeker\"):\n",
    "    result = await Runner.run(careful_job_seeker_manager, message)"
   ]
  },
  {
   "cell_type": "markdown",
   "metadata": {},
   "source": []
  }
 ],
 "metadata": {
  "kernelspec": {
   "display_name": "Python 3",
   "language": "python",
   "name": "python3"
  },
  "language_info": {
   "codemirror_mode": {
    "name": "ipython",
    "version": 3
   },
   "file_extension": ".py",
   "mimetype": "text/x-python",
   "name": "python",
   "nbconvert_exporter": "python",
   "pygments_lexer": "ipython3",
   "version": "3.11.9"
  }
 },
 "nbformat": 4,
 "nbformat_minor": 2
}
